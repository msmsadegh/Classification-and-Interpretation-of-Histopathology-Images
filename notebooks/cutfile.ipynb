{
 "cells": [
  {
   "cell_type": "code",
   "execution_count": 11,
   "id": "bf4e0655",
   "metadata": {
    "id": "bf4e0655",
    "outputId": "95258c43-6afc-4ed3-c77e-ba898e9e8ff4"
   },
   "outputs": [
    {
     "name": "stdout",
     "output_type": "stream",
     "text": [
      "588\n",
      "88\n",
      "88\n"
     ]
    }
   ],
   "source": [
    "#for benign test 1\n",
    "import os\n",
    "import shutil\n",
    "import random\n",
    "def cut_files_by_percentage(source_folder, destination_folder, percentage,destination_foldertest):\n",
    "    i=0\n",
    "    files = os.listdir(source_folder)\n",
    "    random.shuffle(files)\n",
    "    #-400- , -40-, -100- ,-200-\n",
    "    files_to_cut = [file for file in files if \"-400-\" in file]\n",
    "    print(len(files_to_cut))\n",
    "\n",
    "    num_files_to_move = int(len(files_to_cut) * percentage)\n",
    "\n",
    "\n",
    "    os.makedirs(destination_folder, exist_ok=True)\n",
    "\n",
    "\n",
    "    for file_to_cut in files_to_cut[:num_files_to_move]:\n",
    "        source_path = os.path.join(source_folder, file_to_cut)\n",
    "        destination_path = os.path.join(destination_folder, file_to_cut)\n",
    "        shutil.move(source_path, destination_path)\n",
    "        i=i+1\n",
    "    print(i)\n",
    "    i=0\n",
    "    for file_to_cut in files_to_cut[num_files_to_move:(2*num_files_to_move)]:\n",
    "        source_path = os.path.join(source_folder, file_to_cut)\n",
    "        destination_path = os.path.join(destination_foldertest, file_to_cut)\n",
    "        shutil.move(source_path, destination_path)\n",
    "        i=i+1\n",
    "    print(i)\n",
    "\n",
    "source_folder=\"C:\\\\Users\\\\Administrator\\\\Desktop\\\\1\\\\train\\\\benign\"\n",
    "destination_folder=\"C:\\\\Users\\\\Administrator\\\\Desktop\\\\1\\\\valid\\\\benign\"\n",
    "destination_foldertest=\"C:\\\\Users\\\\Administrator\\\\Desktop\\\\1\\\\test\\\\benign\"\n",
    "percentage_to_cut=0.15\n",
    "cut_files_by_percentage(source_folder, destination_folder, percentage_to_cut,destination_foldertest)\n"
   ]
  },
  {
   "cell_type": "code",
   "execution_count": 15,
   "id": "c5003287",
   "metadata": {
    "id": "c5003287",
    "outputId": "a3948594-f5ae-4267-e85d-bc254f270ff6"
   },
   "outputs": [
    {
     "name": "stdout",
     "output_type": "stream",
     "text": [
      "1232\n",
      "184\n",
      "184\n"
     ]
    }
   ],
   "source": [
    "#for malignant test 1\n",
    "import os\n",
    "import shutil\n",
    "import random\n",
    "def cut_files_by_percentage(source_folder, destination_folder, percentage,destination_foldertest):\n",
    "    i=0\n",
    "\n",
    "    files = os.listdir(source_folder)\n",
    "    random.shuffle(files)\n",
    "\n",
    "    files_to_cut = [file for file in files if \"-400-\" in file]\n",
    "    print(len(files_to_cut))\n",
    "\n",
    "    num_files_to_move = int(len(files_to_cut) * percentage)\n",
    "\n",
    "\n",
    "    os.makedirs(destination_folder, exist_ok=True)\n",
    "\n",
    "\n",
    "    for file_to_cut in files_to_cut[:num_files_to_move]:\n",
    "        source_path = os.path.join(source_folder, file_to_cut)\n",
    "        destination_path = os.path.join(destination_folder, file_to_cut)\n",
    "        shutil.move(source_path, destination_path)\n",
    "        i=i+1\n",
    "    print(i)\n",
    "    i=0\n",
    "    for file_to_cut in files_to_cut[num_files_to_move:(2*num_files_to_move)]:\n",
    "        source_path = os.path.join(source_folder, file_to_cut)\n",
    "        destination_path = os.path.join(destination_foldertest, file_to_cut)\n",
    "        shutil.move(source_path, destination_path)\n",
    "        i=i+1\n",
    "    print(i)\n",
    "\n",
    "source_folder=\"C:\\\\Users\\\\Administrator\\\\Desktop\\\\1\\\\train\\\\malignant\"\n",
    "destination_folder=\"C:\\\\Users\\\\Administrator\\\\Desktop\\\\1\\\\valid\\\\malignant\"\n",
    "destination_foldertest=\"C:\\\\Users\\\\Administrator\\\\Desktop\\\\1\\\\test\\\\malignant\"\n",
    "percentage_to_cut=0.15\n",
    "cut_files_by_percentage(source_folder, destination_folder, percentage_to_cut,destination_foldertest)\n"
   ]
  },
  {
   "cell_type": "code",
   "execution_count": 19,
   "id": "87912a88",
   "metadata": {},
   "outputs": [
    {
     "name": "stdout",
     "output_type": "stream",
     "text": [
      "588\n",
      "58\n",
      "58\n"
     ]
    }
   ],
   "source": [
    "#for benign test 2\n",
    "import os\n",
    "import shutil\n",
    "import random\n",
    "def cut_files_by_percentage(source_folder, destination_folder, percentage,destination_foldertest):\n",
    "    i=0\n",
    "\n",
    "    files = os.listdir(source_folder)\n",
    "    random.shuffle(files)\n",
    "\n",
    "    files_to_cut = [file for file in files if \"-400-\" in file]\n",
    "    print(len(files_to_cut))\n",
    "\n",
    "    num_files_to_move = int(len(files_to_cut) * percentage)\n",
    "\n",
    "\n",
    "    os.makedirs(destination_folder, exist_ok=True)\n",
    "\n",
    "\n",
    "    for file_to_cut in files_to_cut[:num_files_to_move]:\n",
    "        source_path = os.path.join(source_folder, file_to_cut)\n",
    "        destination_path = os.path.join(destination_folder, file_to_cut)\n",
    "        shutil.move(source_path, destination_path)\n",
    "        i=i+1\n",
    "    print(i)\n",
    "    i=0\n",
    "    for file_to_cut in files_to_cut[num_files_to_move:(2*num_files_to_move)]:\n",
    "        source_path = os.path.join(source_folder, file_to_cut)\n",
    "        destination_path = os.path.join(destination_foldertest, file_to_cut)\n",
    "        shutil.move(source_path, destination_path)\n",
    "        i=i+1\n",
    "    print(i)\n",
    "\n",
    "source_folder=\"C:\\\\Users\\\\Administrator\\\\Desktop\\\\2\\\\train\\\\benign\"\n",
    "destination_folder=\"C:\\\\Users\\\\Administrator\\\\Desktop\\\\2\\\\valid\\\\benign\"\n",
    "destination_foldertest=\"C:\\\\Users\\\\Administrator\\\\Desktop\\\\2\\\\test\\\\benign\"\n",
    "percentage_to_cut=0.1\n",
    "cut_files_by_percentage(source_folder, destination_folder, percentage_to_cut,destination_foldertest)\n"
   ]
  },
  {
   "cell_type": "code",
   "execution_count": 23,
   "id": "666ab649",
   "metadata": {},
   "outputs": [
    {
     "name": "stdout",
     "output_type": "stream",
     "text": [
      "1232\n",
      "123\n",
      "123\n"
     ]
    }
   ],
   "source": [
    "#for malignant test 2\n",
    "import os\n",
    "import shutil\n",
    "import random\n",
    "def cut_files_by_percentage(source_folder, destination_folder, percentage,destination_foldertest):\n",
    "    i=0\n",
    " \n",
    "    files = os.listdir(source_folder)\n",
    "    random.shuffle(files)\n",
    "\n",
    "    files_to_cut = [file for file in files if \"-400-\" in file]\n",
    "    print(len(files_to_cut))\n",
    "\n",
    "    num_files_to_move = int(len(files_to_cut) * percentage)\n",
    "\n",
    "\n",
    "    os.makedirs(destination_folder, exist_ok=True)\n",
    "\n",
    "\n",
    "    for file_to_cut in files_to_cut[:num_files_to_move]:\n",
    "        source_path = os.path.join(source_folder, file_to_cut)\n",
    "        destination_path = os.path.join(destination_folder, file_to_cut)\n",
    "        shutil.move(source_path, destination_path)\n",
    "        i=i+1\n",
    "    print(i)\n",
    "    i=0\n",
    "    for file_to_cut in files_to_cut[num_files_to_move:(2*num_files_to_move)]:\n",
    "        source_path = os.path.join(source_folder, file_to_cut)\n",
    "        destination_path = os.path.join(destination_foldertest, file_to_cut)\n",
    "        shutil.move(source_path, destination_path)\n",
    "        i=i+1\n",
    "    print(i)\n",
    "\n",
    "source_folder=\"C:\\\\Users\\\\Administrator\\\\Desktop\\\\2\\\\train\\\\malignant\"\n",
    "destination_folder=\"C:\\\\Users\\\\Administrator\\\\Desktop\\\\2\\\\valid\\\\malignant\"\n",
    "destination_foldertest=\"C:\\\\Users\\\\Administrator\\\\Desktop\\\\2\\\\test\\\\malignant\"\n",
    "percentage_to_cut=0.1\n",
    "cut_files_by_percentage(source_folder, destination_folder, percentage_to_cut,destination_foldertest)\n"
   ]
  },
  {
   "cell_type": "code",
   "execution_count": 26,
   "id": "e1425479",
   "metadata": {},
   "outputs": [
    {
     "name": "stdout",
     "output_type": "stream",
     "text": [
      "960\n",
      "1007\n",
      "974\n",
      "864\n"
     ]
    }
   ],
   "source": [
    "#for train number of samples test 1\n",
    "import os\n",
    "import shutil\n",
    "import random\n",
    "source_folder=\"C:\\\\Users\\\\Administrator\\\\Desktop\\\\1\\\\train\\\\malignant\"\n",
    "files = os.listdir(source_folder)\n",
    "files_to_cut = [file for file in files if \"-40-\" in file]\n",
    "print(len(files_to_cut))\n",
    "files_to_cut = [file for file in files if \"-100-\" in file]\n",
    "print(len(files_to_cut))\n",
    "files_to_cut = [file for file in files if \"-200-\" in file]\n",
    "print(len(files_to_cut))\n",
    "files_to_cut = [file for file in files if \"-400-\" in file]\n",
    "print(len(files_to_cut))\n",
    "\n"
   ]
  },
  {
   "cell_type": "code",
   "execution_count": null,
   "id": "4eb073b7",
   "metadata": {},
   "outputs": [],
   "source": []
  }
 ],
 "metadata": {
  "colab": {
   "provenance": []
  },
  "kernelspec": {
   "display_name": "Python 3 (ipykernel)",
   "language": "python",
   "name": "python3"
  },
  "language_info": {
   "codemirror_mode": {
    "name": "ipython",
    "version": 3
   },
   "file_extension": ".py",
   "mimetype": "text/x-python",
   "name": "python",
   "nbconvert_exporter": "python",
   "pygments_lexer": "ipython3",
   "version": "3.10.7"
  }
 },
 "nbformat": 4,
 "nbformat_minor": 5
}
